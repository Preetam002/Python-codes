{
 "cells": [
  {
   "cell_type": "code",
   "execution_count": 1,
   "id": "53d2e518",
   "metadata": {},
   "outputs": [
    {
     "name": "stdout",
     "output_type": "stream",
     "text": [
      "190\n",
      "sum\n"
     ]
    }
   ],
   "source": [
    "a=90\n",
    "b=100\n",
    "sum=a+b\n",
    "print(sum)\n",
    "print(\"sum\")"
   ]
  },
  {
   "cell_type": "code",
   "execution_count": null,
   "id": "cc60b227",
   "metadata": {},
   "outputs": [],
   "source": [
    "# variable shou;d always start with alphabets"
   ]
  },
  {
   "cell_type": "code",
   "execution_count": 4,
   "id": "7b3ca700",
   "metadata": {},
   "outputs": [
    {
     "name": "stdout",
     "output_type": "stream",
     "text": [
      "77\n",
      "77\n",
      "2300\n",
      "4.3478260869565215\n",
      "8\n"
     ]
    }
   ],
   "source": [
    "a=100\n",
    "b=23\n",
    "subtract=a-b\n",
    "print(subtract)\n",
    "print(a-b)\n",
    "print(a*b)\n",
    "print(a/b)\n",
    "print(a%b)"
   ]
  },
  {
   "cell_type": "code",
   "execution_count": null,
   "id": "dcf0befb",
   "metadata": {},
   "outputs": [],
   "source": []
  }
 ],
 "metadata": {
  "kernelspec": {
   "display_name": "Python 3 (ipykernel)",
   "language": "python",
   "name": "python3"
  },
  "language_info": {
   "codemirror_mode": {
    "name": "ipython",
    "version": 3
   },
   "file_extension": ".py",
   "mimetype": "text/x-python",
   "name": "python",
   "nbconvert_exporter": "python",
   "pygments_lexer": "ipython3",
   "version": "3.11.4"
  }
 },
 "nbformat": 4,
 "nbformat_minor": 5
}
