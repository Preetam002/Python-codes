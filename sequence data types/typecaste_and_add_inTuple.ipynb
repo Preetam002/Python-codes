{
 "cells": [
  {
   "cell_type": "code",
   "execution_count": 3,
   "id": "7c15240c",
   "metadata": {},
   "outputs": [
    {
     "name": "stdout",
     "output_type": "stream",
     "text": [
      "('mum', 'chenn', 'blore', 'pune', 'delhi')\n",
      "<class 'tuple'>\n",
      "['mum', 'chenn', 'blore', 'pune', 'delhi']\n",
      "<class 'list'>\n",
      "['mum', 'chenn', 'blore', 'pune', 'mysore', 'gurugoan']\n",
      "('mum', 'chenn', 'blore', 'pune', 'mysore', 'gurugoan')\n"
     ]
    }
   ],
   "source": [
    "tuple1=(\"mum\",\"chenn\",\"blore\",\"pune\",\"delhi\")\n",
    "print(tuple1)\n",
    "print(type(tuple1))\n",
    "list1=list(tuple1)\n",
    "print(list1)\n",
    "print(type(list1))\n",
    "list1.append(\"gurugoan\")\n",
    "list1[4]=\"mysore\"\n",
    "print(list1)\n",
    "tuple1=tuple(list1)\n",
    "print(tuple1)"
   ]
  },
  {
   "cell_type": "code",
   "execution_count": null,
   "id": "b73e3c6f",
   "metadata": {},
   "outputs": [],
   "source": []
  }
 ],
 "metadata": {
  "kernelspec": {
   "display_name": "Python 3 (ipykernel)",
   "language": "python",
   "name": "python3"
  },
  "language_info": {
   "codemirror_mode": {
    "name": "ipython",
    "version": 3
   },
   "file_extension": ".py",
   "mimetype": "text/x-python",
   "name": "python",
   "nbconvert_exporter": "python",
   "pygments_lexer": "ipython3",
   "version": "3.11.4"
  }
 },
 "nbformat": 4,
 "nbformat_minor": 5
}
