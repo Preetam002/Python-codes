{
 "cells": [
  {
   "cell_type": "code",
   "execution_count": 3,
   "id": "cf9e65e7",
   "metadata": {},
   "outputs": [
    {
     "name": "stdout",
     "output_type": "stream",
     "text": [
      "{'Name': 'preetam', 'Age': '20', 'Gender': 'Male', 'Year': '2021'}\n"
     ]
    }
   ],
   "source": [
    "dict1={\"Name\":\"preetam\",\"Age\":\"20\",\"Gender\":\"Male\",\"Year\":\"2023\",\"Year\":\"2021\"}\n",
    "print(dict1)"
   ]
  },
  {
   "cell_type": "code",
   "execution_count": null,
   "id": "56bd446e",
   "metadata": {},
   "outputs": [],
   "source": []
  }
 ],
 "metadata": {
  "kernelspec": {
   "display_name": "Python 3 (ipykernel)",
   "language": "python",
   "name": "python3"
  },
  "language_info": {
   "codemirror_mode": {
    "name": "ipython",
    "version": 3
   },
   "file_extension": ".py",
   "mimetype": "text/x-python",
   "name": "python",
   "nbconvert_exporter": "python",
   "pygments_lexer": "ipython3",
   "version": "3.11.4"
  }
 },
 "nbformat": 4,
 "nbformat_minor": 5
}
