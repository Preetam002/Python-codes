{
 "cells": [
  {
   "cell_type": "code",
   "execution_count": 7,
   "id": "e48ef6a0",
   "metadata": {},
   "outputs": [
    {
     "name": "stdout",
     "output_type": "stream",
     "text": [
      "['preetam', 'vitthalkar', 'gangadhar']\n",
      "['liquid', 'vitthalkar', 'gangadhar']\n"
     ]
    }
   ],
   "source": [
    "list=[\"preetam\",\"vitthalkar\"]\n",
    "list.append(\"gangadhar\")\n",
    "print(list)\n",
    "list[0]=\"liquid\"\n",
    "print(list)"
   ]
  },
  {
   "cell_type": "code",
   "execution_count": 13,
   "id": "5f73c59d",
   "metadata": {},
   "outputs": [
    {
     "name": "stdout",
     "output_type": "stream",
     "text": [
      "[1, 2, 3, 4, 5, 6, 10]\n",
      "[2, 2, 11, 11, 15, 34, 34, 46, 57]\n",
      "{2, 34, 11, 46, 15, 57}\n"
     ]
    }
   ],
   "source": [
    "list1=[1,2,3,4,5,6]\n",
    "list1.append(10)\n",
    "print(list1)\n",
    "list2=[2,15,46,57,34,11,34,11,2]\n",
    "list2.sort()\n",
    "list3=[2,15,46,57,34,11,34,2,11]\n",
    "list3=set(list3)\n",
    "print(list2)\n",
    "print(list3)"
   ]
  },
  {
   "cell_type": "code",
   "execution_count": null,
   "id": "7ecd7067",
   "metadata": {},
   "outputs": [],
   "source": []
  }
 ],
 "metadata": {
  "kernelspec": {
   "display_name": "Python 3 (ipykernel)",
   "language": "python",
   "name": "python3"
  },
  "language_info": {
   "codemirror_mode": {
    "name": "ipython",
    "version": 3
   },
   "file_extension": ".py",
   "mimetype": "text/x-python",
   "name": "python",
   "nbconvert_exporter": "python",
   "pygments_lexer": "ipython3",
   "version": "3.11.4"
  }
 },
 "nbformat": 4,
 "nbformat_minor": 5
}
