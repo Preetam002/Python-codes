{
 "cells": [
  {
   "cell_type": "code",
   "execution_count": 9,
   "id": "70fc55cf",
   "metadata": {},
   "outputs": [
    {
     "name": "stdout",
     "output_type": "stream",
     "text": [
      "('run', 'and', 'ares', 'gun', 'vandal', 'catch')\n",
      "run\n",
      "catch\n",
      "vandal\n",
      "('run', 'and', 'ares', 'gun', 'vandal', 'catch', 'run', 'and', 'ares', 'gun', 'vandal', 'catch')\n",
      "('run', 'and', 'ares', 'gun', 'vandal', 'catch', 'run', 'and', 'ares', 'gun', 'vandal', 'catch', 'run', 'and', 'ares', 'gun', 'vandal', 'catch')\n",
      "1\n",
      "2\n"
     ]
    }
   ],
   "source": [
    "tuple1=(\"run\",\"and\",\"ares\",\"gun\",\"vandal\",\"catch\")\n",
    "print(tuple1)\n",
    "print(tuple1[0])\n",
    "print(tuple1[-1])\n",
    "print(tuple1[-2])\n",
    "tuple2=tuple1+tuple1\n",
    "print(tuple2)\n",
    "tuple3=tuple1*3\n",
    "print(tuple3)\n",
    "x=tuple1.index(\"and\")\n",
    "print(x)\n",
    "y=tuple2.count(\"and\")\n",
    "print(y)\n"
   ]
  },
  {
   "cell_type": "code",
   "execution_count": null,
   "id": "635a54ec",
   "metadata": {},
   "outputs": [],
   "source": []
  }
 ],
 "metadata": {
  "kernelspec": {
   "display_name": "Python 3 (ipykernel)",
   "language": "python",
   "name": "python3"
  },
  "language_info": {
   "codemirror_mode": {
    "name": "ipython",
    "version": 3
   },
   "file_extension": ".py",
   "mimetype": "text/x-python",
   "name": "python",
   "nbconvert_exporter": "python",
   "pygments_lexer": "ipython3",
   "version": "3.11.4"
  }
 },
 "nbformat": 4,
 "nbformat_minor": 5
}
