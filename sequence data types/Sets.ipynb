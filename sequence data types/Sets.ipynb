{
 "cells": [
  {
   "cell_type": "code",
   "execution_count": 10,
   "id": "86ff1ac8",
   "metadata": {},
   "outputs": [
    {
     "name": "stdout",
     "output_type": "stream",
     "text": [
      "{'red', 'blue', 'black'}\n",
      "{'red', 'blue', 'black'}\n",
      "{'red', 'blue', 'black', 'orange'}\n",
      "{'orange', 'preet', 'blue', 'muj', 'red', 'raj', 'black'}\n"
     ]
    }
   ],
   "source": [
    "# sets are unordered, unchangeble,duplicates not allowed\n",
    "set1={'red','black','blue'}\n",
    "print(set1)\n",
    "set2={'red','black','blue','red'}\n",
    "print(set2)\n",
    "set1.add('orange')\n",
    "print(set1)\n",
    "set3={\"muj\",\"raj\",\"preet\"}\n",
    "set1.update(set3)\n",
    "print(set1)\n"
   ]
  },
  {
   "cell_type": "code",
   "execution_count": null,
   "id": "824013c9",
   "metadata": {},
   "outputs": [],
   "source": []
  }
 ],
 "metadata": {
  "kernelspec": {
   "display_name": "Python 3 (ipykernel)",
   "language": "python",
   "name": "python3"
  },
  "language_info": {
   "codemirror_mode": {
    "name": "ipython",
    "version": 3
   },
   "file_extension": ".py",
   "mimetype": "text/x-python",
   "name": "python",
   "nbconvert_exporter": "python",
   "pygments_lexer": "ipython3",
   "version": "3.11.4"
  }
 },
 "nbformat": 4,
 "nbformat_minor": 5
}
