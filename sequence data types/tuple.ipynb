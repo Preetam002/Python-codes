{
 "cells": [
  {
   "cell_type": "code",
   "execution_count": 4,
   "id": "1e7a7c72",
   "metadata": {},
   "outputs": [
    {
     "name": "stdout",
     "output_type": "stream",
     "text": [
      "<class 'type'>\n",
      "('p', 'r', 'e', 'e', 't', 'a', 'm')\n",
      "(2, 3, 45, 65, 6, 9)\n",
      "(2, 3, 45, 65, 6, 9)\n"
     ]
    }
   ],
   "source": [
    "# tuple\n",
    "# properties: ordered, unmutable\n",
    "tuple1=(\"p\",\"r\",\"e\",\"e\",\"t\",\"a\",\"m\")\n",
    "print(type(tuple))\n",
    "print(tuple1)\n",
    "tuple2=tuple((2,3,45,65,6,9))\n",
    "print(tuple2)\n",
    "tuple3=tuple2\n",
    "print(tuple3)"
   ]
  },
  {
   "cell_type": "code",
   "execution_count": null,
   "id": "420f45d3",
   "metadata": {},
   "outputs": [],
   "source": []
  }
 ],
 "metadata": {
  "kernelspec": {
   "display_name": "Python 3 (ipykernel)",
   "language": "python",
   "name": "python3"
  },
  "language_info": {
   "codemirror_mode": {
    "name": "ipython",
    "version": 3
   },
   "file_extension": ".py",
   "mimetype": "text/x-python",
   "name": "python",
   "nbconvert_exporter": "python",
   "pygments_lexer": "ipython3",
   "version": "3.11.4"
  }
 },
 "nbformat": 4,
 "nbformat_minor": 5
}
