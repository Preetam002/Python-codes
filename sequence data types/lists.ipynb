{
 "cells": [
  {
   "cell_type": "code",
   "execution_count": 1,
   "id": "b3b25e2f",
   "metadata": {},
   "outputs": [
    {
     "name": "stdout",
     "output_type": "stream",
     "text": [
      "Preetam 7\n"
     ]
    }
   ],
   "source": [
    "a=\"Preetam\"\n",
    "print(a,len(a))"
   ]
  },
  {
   "cell_type": "code",
   "execution_count": 3,
   "id": "7d51f0c7",
   "metadata": {},
   "outputs": [
    {
     "name": "stdout",
     "output_type": "stream",
     "text": [
      "('preetam', 'a') 2\n"
     ]
    }
   ],
   "source": [
    "a='preetam','a'\n",
    "print(a,len(a))"
   ]
  },
  {
   "cell_type": "code",
   "execution_count": 4,
   "id": "2e3e229d",
   "metadata": {},
   "outputs": [
    {
     "name": "stdout",
     "output_type": "stream",
     "text": [
      "('preetam', 'vitthalkar') 2\n"
     ]
    }
   ],
   "source": [
    "a=\"preetam\",\"vitthalkar\"\n",
    "print(a,len(a))"
   ]
  },
  {
   "cell_type": "code",
   "execution_count": 8,
   "id": "9668a23b",
   "metadata": {},
   "outputs": [
    {
     "name": "stdout",
     "output_type": "stream",
     "text": [
      "<class 'list'>\n",
      "['preetam', 'vitthalkar']\n",
      "<class 'list'>\n",
      "[1, 2, 3, 4, 56]\n",
      "<class 'list'>\n",
      "['preetam', 'vitthalkar', 1, 2, 3, 4, 56]\n"
     ]
    }
   ],
   "source": [
    "#sequencial data type:\n",
    "# tuple,lists,range\n",
    "\n",
    "list=[\"preetam\",\"vitthalkar\"]\n",
    "print(type(list))\n",
    "print(list)\n",
    "list1=[1,2,3,4,56]\n",
    "print(type(list1))\n",
    "print(list1)\n",
    "list2=list+list1\n",
    "print(type(list2))\n",
    "print(list2)"
   ]
  },
  {
   "cell_type": "code",
   "execution_count": 9,
   "id": "c1627e2f",
   "metadata": {},
   "outputs": [],
   "source": [
    "# properties of list:- allow duplicates,ordered,mutable"
   ]
  },
  {
   "cell_type": "code",
   "execution_count": null,
   "id": "a9d4a129",
   "metadata": {},
   "outputs": [],
   "source": []
  }
 ],
 "metadata": {
  "kernelspec": {
   "display_name": "Python 3 (ipykernel)",
   "language": "python",
   "name": "python3"
  },
  "language_info": {
   "codemirror_mode": {
    "name": "ipython",
    "version": 3
   },
   "file_extension": ".py",
   "mimetype": "text/x-python",
   "name": "python",
   "nbconvert_exporter": "python",
   "pygments_lexer": "ipython3",
   "version": "3.11.4"
  }
 },
 "nbformat": 4,
 "nbformat_minor": 5
}
