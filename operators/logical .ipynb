{
 "cells": [
  {
   "cell_type": "code",
   "execution_count": 2,
   "id": "0e809565",
   "metadata": {},
   "outputs": [
    {
     "name": "stdout",
     "output_type": "stream",
     "text": [
      "enter your age25\n",
      "<class 'str'>\n",
      "enter your age26\n",
      "<class 'int'>\n",
      "True\n",
      "True\n"
     ]
    }
   ],
   "source": [
    "age=input(\"enter your age\")\n",
    "print(type(age))\n",
    "realage=int(input(\"enter your age\"))\n",
    "print(type(realage))\n",
    "#print(age>18 and age<50)\n",
    "#print(age>18 or age<25)  this will throw error\n",
    "print(realage>18 and realage<50)\n",
    "print(realage>18 or realage<25)"
   ]
  },
  {
   "cell_type": "code",
   "execution_count": null,
   "id": "b8b7577e",
   "metadata": {},
   "outputs": [],
   "source": []
  }
 ],
 "metadata": {
  "kernelspec": {
   "display_name": "Python 3 (ipykernel)",
   "language": "python",
   "name": "python3"
  },
  "language_info": {
   "codemirror_mode": {
    "name": "ipython",
    "version": 3
   },
   "file_extension": ".py",
   "mimetype": "text/x-python",
   "name": "python",
   "nbconvert_exporter": "python",
   "pygments_lexer": "ipython3",
   "version": "3.11.4"
  }
 },
 "nbformat": 4,
 "nbformat_minor": 5
}
