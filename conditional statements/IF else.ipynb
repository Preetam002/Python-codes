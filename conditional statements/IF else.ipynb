{
 "cells": [
  {
   "cell_type": "code",
   "execution_count": 5,
   "id": "769a7186",
   "metadata": {},
   "outputs": [
    {
     "name": "stdout",
     "output_type": "stream",
     "text": [
      "enter the value of a 11\n",
      "Enter the value of b 11\n",
      "11\n",
      "11\n"
     ]
    }
   ],
   "source": [
    "a= input(\"enter the value of a \")\n",
    "b= input(\"Enter the value of b \")\n",
    "print(a)\n",
    "print(b)"
   ]
  },
  {
   "cell_type": "code",
   "execution_count": 6,
   "id": "c0c4079d",
   "metadata": {},
   "outputs": [
    {
     "name": "stdout",
     "output_type": "stream",
     "text": [
      "the value of a and b are equal\n"
     ]
    }
   ],
   "source": [
    "if a>b:\n",
    "    print(\"the value of a is greater than b\")\n",
    "elif a==b:\n",
    "    print(\"the value of a and b are equal\")\n",
    "else:\n",
    "     print(\"the value of a is greater than b\")\n",
    "    "
   ]
  },
  {
   "cell_type": "code",
   "execution_count": null,
   "id": "820f1c7e",
   "metadata": {},
   "outputs": [],
   "source": []
  }
 ],
 "metadata": {
  "kernelspec": {
   "display_name": "Python 3 (ipykernel)",
   "language": "python",
   "name": "python3"
  },
  "language_info": {
   "codemirror_mode": {
    "name": "ipython",
    "version": 3
   },
   "file_extension": ".py",
   "mimetype": "text/x-python",
   "name": "python",
   "nbconvert_exporter": "python",
   "pygments_lexer": "ipython3",
   "version": "3.11.4"
  }
 },
 "nbformat": 4,
 "nbformat_minor": 5
}
